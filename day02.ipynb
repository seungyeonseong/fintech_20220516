{
 "cells": [
  {
   "cell_type": "code",
   "execution_count": 6,
   "id": "548dfe93",
   "metadata": {},
   "outputs": [],
   "source": [
    "#20220806_웹_실습"
   ]
  },
  {
   "cell_type": "code",
   "execution_count": 7,
   "id": "62b1274c",
   "metadata": {},
   "outputs": [
    {
     "name": "stdout",
     "output_type": "stream",
     "text": [
      "Overwriting test.py\n"
     ]
    }
   ],
   "source": [
    "%%writefile test.py\n",
    "\n",
    "from flask import Flask\n",
    "\n",
    "app = Flask(__name__)\n",
    "\n",
    "@app.route('/')\n",
    "def home():\n",
    "    return \"<h1>HELLO</h1>\"\n",
    "\n",
    "\n",
    "if __name__ == \"__main__\":\n",
    "    app.run(host='0.0.0.0', port=80, debug =True)"
   ]
  },
  {
   "cell_type": "markdown",
   "id": "ca61e028",
   "metadata": {},
   "source": [
    "# cell에서 flask 실행"
   ]
  },
  {
   "cell_type": "code",
   "execution_count": 8,
   "id": "8db9f8e3",
   "metadata": {},
   "outputs": [
    {
     "name": "stdout",
     "output_type": "stream",
     "text": [
      " * Serving Flask app \"__main__\" (lazy loading)\n",
      " * Environment: production\n",
      "\u001b[31m   WARNING: This is a development server. Do not use it in a production deployment.\u001b[0m\n",
      "\u001b[2m   Use a production WSGI server instead.\u001b[0m\n",
      " * Debug mode: off\n"
     ]
    },
    {
     "name": "stderr",
     "output_type": "stream",
     "text": [
      " * Running on all addresses.\n",
      "   WARNING: This is a development server. Do not use it in a production deployment.\n",
      " * Running on http://192.168.101.35:80/ (Press CTRL+C to quit)\n"
     ]
    }
   ],
   "source": [
    "#%%writefile test.py\n",
    "\n",
    "from flask import Flask\n",
    "\n",
    "app = Flask(__name__)\n",
    "\n",
    "@app.route('/')\n",
    "def home():\n",
    "    return \"<h1>HELLO</h1>\"\n",
    "\n",
    "\n",
    "if __name__ == \"__main__\":\n",
    "    app.run(host='0.0.0.0', port=80, debug =False)"
   ]
  },
  {
   "cell_type": "markdown",
   "id": "54d98504",
   "metadata": {},
   "source": [
    "# flask 템플릿 연동"
   ]
  },
  {
   "cell_type": "code",
   "execution_count": 1,
   "id": "d5331269",
   "metadata": {},
   "outputs": [
    {
     "name": "stdout",
     "output_type": "stream",
     "text": [
      "Overwriting templates/main.html\n"
     ]
    }
   ],
   "source": [
    "%%writefile templates/main.html\n",
    "\n",
    "<html>\n",
    "    <h1> {{name}} </h1>\n",
    "\n",
    "</html>\n"
   ]
  },
  {
   "cell_type": "code",
   "execution_count": 3,
   "id": "c722efee",
   "metadata": {},
   "outputs": [
    {
     "name": "stdout",
     "output_type": "stream",
     "text": [
      "Overwriting test.py\n"
     ]
    }
   ],
   "source": [
    "%%writefile test.py\n",
    "\n",
    "from flask import Flask,render_template\n",
    "\n",
    "app = Flask(__name__)\n",
    "\n",
    "@app.route('/')\n",
    "def home():\n",
    "    return render_template(\"main.html\", name = \"이순신\")\n",
    "\n",
    "\n",
    "if __name__ == \"__main__\":\n",
    "    app.run(host='0.0.0.0', port=80, debug =True)"
   ]
  },
  {
   "cell_type": "markdown",
   "id": "49aef3dd",
   "metadata": {},
   "source": [
    "# html 분석"
   ]
  },
  {
   "cell_type": "code",
   "execution_count": 14,
   "id": "3fe33314",
   "metadata": {},
   "outputs": [
    {
     "name": "stdout",
     "output_type": "stream",
     "text": [
      "https://finance.naver.com/item/main.naver?code=005930\n",
      "61,500\n"
     ]
    }
   ],
   "source": [
    "from bs4 import BeautifulSoup\n",
    "import urllib.request as req\n",
    "\n",
    "code = \"005930\" #삼성전자 종목코드\n",
    "url = f\"https://finance.naver.com/item/main.naver?code={code}\"\n",
    "print(url)\n",
    "\n",
    "res =req.urlopen(url).read().decode('cp949')\n",
    "soup = BeautifulSoup(res,\"html.parser\")\n",
    "\n",
    "print(soup.select(\"p.no_today span.blind\")[0].text)\n",
    "#print(soup.select(\"p.no_today\")[0].text)\n"
   ]
  },
  {
   "cell_type": "code",
   "execution_count": 18,
   "id": "fd6053f9",
   "metadata": {},
   "outputs": [
    {
     "name": "stdout",
     "output_type": "stream",
     "text": [
      "\n",
      "보합\n",
      "0\n",
      "0\n",
      "\n"
     ]
    }
   ],
   "source": [
    "print(soup.select(\"div.rate_info >div > p.no_exday > em:nth-child(2) \")[0].text)"
   ]
  },
  {
   "cell_type": "code",
   "execution_count": 49,
   "id": "e9991ba5",
   "metadata": {},
   "outputs": [
    {
     "name": "stdout",
     "output_type": "stream",
     "text": [
      "('642,000', '상승', '33,000')\n",
      "상승\n"
     ]
    }
   ],
   "source": [
    "from bs4 import BeautifulSoup\n",
    "import urllib.request as req\n",
    "\n",
    "def getstock(code):\n",
    "    url = f\"https://finance.naver.com/item/main.naver?code={code}\"\n",
    "\n",
    "    res =req.urlopen(url).read().decode('cp949')\n",
    "    soup = BeautifulSoup(res,\"html.parser\")\n",
    "  \n",
    "    stock = soup.select(\"p.no_today span.blind\")[0].text\n",
    "    status = soup.select(\" div.rate_info  div  p.no_exday  em:nth-child(2)\")[0].text.split()\n",
    "    \n",
    "    ret = (stock,status[0],status[1])\n",
    "    return ret\n",
    "\n",
    "print(getstock(\"051910\"))\n",
    "print(getstock(\"051910\")[1])"
   ]
  },
  {
   "cell_type": "code",
   "execution_count": 47,
   "id": "4b7fb47c",
   "metadata": {},
   "outputs": [],
   "source": [
    "#딕셔너리 활용 => 위 코드보다 가독성있다!"
   ]
  },
  {
   "cell_type": "code",
   "execution_count": 58,
   "id": "f708f1a5",
   "metadata": {},
   "outputs": [
    {
     "name": "stdout",
     "output_type": "stream",
     "text": [
      "{'stock': '642,000', 'status': '상승', 'delta': '33,000'}\n",
      "상승\n"
     ]
    }
   ],
   "source": [
    "from bs4 import BeautifulSoup\n",
    "import urllib.request as req\n",
    "\n",
    "def getStock(code):\n",
    "    url = f\"https://finance.naver.com/item/main.naver?code={code}\"\n",
    "\n",
    "    res =req.urlopen(url).read().decode('cp949')\n",
    "    soup = BeautifulSoup(res,\"html.parser\")\n",
    "  \n",
    "    stock = soup.select(\"p.no_today span.blind\")[0].text\n",
    "    status = soup.select(\" div.rate_info  div  p.no_exday  em:nth-child(2)\")[0].text.split()\n",
    "    \n",
    "    info = {\"stock\":stock,\"status\":status[0],\"delta\":status[1]}\n",
    "    return info\n",
    "\n",
    "print(getStock(\"051910\"))\n",
    "print(getStock(\"051910\")['status'])\n"
   ]
  },
  {
   "cell_type": "markdown",
   "id": "e90d4734",
   "metadata": {},
   "source": [
    "# 웹서비스 연동\n",
    "\n",
    "-LG화학 642,000  빨간색으로 33,000 제목클릭 시 주가사이트로 이동\n",
    "\n",
    "-삼성전자 2343242 검은색으로 0\n",
    "\n",
    "-LG전자 96900 파란색으로 100\n"
   ]
  },
  {
   "cell_type": "code",
   "execution_count": 52,
   "id": "61d65ab8",
   "metadata": {},
   "outputs": [],
   "source": [
    "datas=[ {'name':\"LG화학\",'code':\"051910\"},\n",
    "      {'name':\"삼성전자\",'code':\"005930\"},\n",
    "      {'name':\"LG전자\",'code':'066570'}]"
   ]
  },
  {
   "cell_type": "code",
   "execution_count": null,
   "id": "0c8bcecf",
   "metadata": {},
   "outputs": [],
   "source": [
    "for d in datas:\n",
    "< a href = https://finance.naver.com/item/main.naver?code={code}> <font color=blue></a>\n"
   ]
  },
  {
   "cell_type": "code",
   "execution_count": 62,
   "id": "21fdea43",
   "metadata": {},
   "outputs": [
    {
     "name": "stdout",
     "output_type": "stream",
     "text": [
      "{'name': 'LG화학', 'code': '051910', 'info': {'stock': '642,000', 'status': '상승', 'delta': '33,000'}}\n",
      "{'stock': '642,000', 'status': '상승', 'delta': '33,000'}\n",
      "642,000\n"
     ]
    }
   ],
   "source": [
    "data = datas[0]\n",
    "print(data)\n",
    "\n",
    "info = getStock(data[\"code\"])\n",
    "print(info)\n",
    "\n",
    "result = data\n",
    "result[\"info\"] = info\n",
    "print(result[\"info\"][\"stock\"])"
   ]
  },
  {
   "cell_type": "code",
   "execution_count": 63,
   "id": "5f82aa7f",
   "metadata": {},
   "outputs": [
    {
     "data": {
      "text/plain": [
       "{'name': 'LG화학',\n",
       " 'code': '051910',\n",
       " 'info': {'stock': '642,000', 'status': '상승', 'delta': '33,000'}}"
      ]
     },
     "execution_count": 63,
     "metadata": {},
     "output_type": "execute_result"
    }
   ],
   "source": [
    "def getStockData(data):\n",
    "    info = getStock(data[\"code\"])\n",
    "    \n",
    "    result = data\n",
    "    result[\"info\"] = info\n",
    "    return result\n",
    "\n",
    "getStockData(datas[0])"
   ]
  },
  {
   "cell_type": "code",
   "execution_count": 16,
   "id": "d63488a1",
   "metadata": {},
   "outputs": [
    {
     "name": "stdout",
     "output_type": "stream",
     "text": [
      "Overwriting templates/stock.html\n"
     ]
    }
   ],
   "source": [
    "%%writefile templates/stock.html\n",
    "\n",
    "\n",
    "관심종목 목록<br/>\n",
    "\n",
    "{%for data in datas%}\n",
    "    <a href = \"https://finance.naver.com/item/main.naver?code={{data.code}}\"> {{data.name}}</a> / {{data.code}} / {{data.info.stock}} // {{data.info.status}} \n",
    "    \n",
    "    {%if data.info.status == \"상승\" %}\n",
    "        <font color = red>\n",
    "    {%elif data.info.status == \"하락\" %}\n",
    "        <font color = blue>\n",
    "    {% else %}\n",
    "        <font color = black>\n",
    "    {%endif%}\n",
    "\n",
    "    / {{data.info.delta}} </font> <br/>\n",
    "\n",
    "{%endfor%}"
   ]
  },
  {
   "cell_type": "code",
   "execution_count": 19,
   "id": "3d5cf44a",
   "metadata": {},
   "outputs": [
    {
     "name": "stdout",
     "output_type": "stream",
     "text": [
      "Overwriting stock.py\n"
     ]
    }
   ],
   "source": [
    "%%writefile stock.py\n",
    "\n",
    "from flask import Flask,render_template\n",
    "from bs4 import BeautifulSoup\n",
    "import urllib.request as req\n",
    "\n",
    "def getStock(code):\n",
    "    url = f\"https://finance.naver.com/item/main.naver?code={code}\"\n",
    "\n",
    "    res =req.urlopen(url).read().decode('cp949')\n",
    "    soup = BeautifulSoup(res,\"html.parser\")\n",
    "  \n",
    "    stock = soup.select(\"p.no_today span.blind\")[0].text\n",
    "    status = soup.select(\" div.rate_info  div  p.no_exday  em:nth-child(2)\")[0].text.split()\n",
    "    \n",
    "    info = {\"stock\":stock,\"status\":status[0],\"delta\":status[1]}\n",
    "    return info\n",
    "\n",
    "def getStockData(data):\n",
    "    info = getStock(data[\"code\"])\n",
    "    \n",
    "    result = data\n",
    "    result[\"info\"] = info\n",
    "    return result\n",
    "\n",
    "app = Flask(__name__)\n",
    "\n",
    "@app.route('/')\n",
    "def home():\n",
    "    datas=[ {'name':\"LG화학\",'code':\"051910\"},\n",
    "      {'name':\"삼성전자\",'code':\"005930\"},\n",
    "      {'name':\"LG전자\",'code':'066570'}]\n",
    "    \n",
    "    #result=[]\n",
    "    #for data in datas:\n",
    "    #    r = getStockData(data)\n",
    "    #    result.append(r)\n",
    "    result = [getStockData(data) for data in datas]\n",
    "    \n",
    "    return render_template(\"stock.html\", datas = result)\n",
    "\n",
    "\n",
    "if __name__ == \"__main__\":\n",
    "    app.run(host='127.0.0.1', port=80, debug =True)"
   ]
  },
  {
   "cell_type": "code",
   "execution_count": 24,
   "id": "3d0ce1d4",
   "metadata": {},
   "outputs": [],
   "source": [
    "#jupyter notebook에서 HTML을 랜더링"
   ]
  },
  {
   "cell_type": "code",
   "execution_count": 23,
   "id": "5b3cc148",
   "metadata": {},
   "outputs": [
    {
     "data": {
      "text/html": [
       "\n",
       "\n",
       "관심종목 목록<br/>\n",
       "\n",
       "\n",
       "    <a href = \"https://finance.naver.com/item/main.naver?code=051910\"> LG화학</a> / 051910 / 642,000 // 상승 \n",
       "    \n",
       "    \n",
       "        <font color = red>\n",
       "    \n",
       "\n",
       "    / 33,000 </font> <br/>\n",
       "\n",
       "\n",
       "    <a href = \"https://finance.naver.com/item/main.naver?code=005930\"> 삼성전자</a> / 005930 / 61,500 // 보합 \n",
       "    \n",
       "    \n",
       "        <font color = black>\n",
       "    \n",
       "\n",
       "    / 0 </font> <br/>\n",
       "\n",
       "\n",
       "    <a href = \"https://finance.naver.com/item/main.naver?code=066570\"> LG전자</a> / 066570 / 95,900 // 하락 \n",
       "    \n",
       "    \n",
       "        <font color = blue>\n",
       "    \n",
       "\n",
       "    / 100 </font> <br/>\n",
       "\n"
      ],
      "text/plain": [
       "<IPython.core.display.HTML object>"
      ]
     },
     "execution_count": 23,
     "metadata": {},
     "output_type": "execute_result"
    }
   ],
   "source": [
    "from jinja2 import Template\n",
    "from IPython.core.display import HTML\n",
    "\n",
    "from flask import Flask,render_template\n",
    "from bs4 import BeautifulSoup\n",
    "import urllib.request as req\n",
    "\n",
    "def getStock(code):\n",
    "    url = f\"https://finance.naver.com/item/main.naver?code={code}\"\n",
    "\n",
    "    res =req.urlopen(url).read().decode('cp949')\n",
    "    soup = BeautifulSoup(res,\"html.parser\")\n",
    "  \n",
    "    stock = soup.select(\"p.no_today span.blind\")[0].text\n",
    "    status = soup.select(\" div.rate_info  div  p.no_exday  em:nth-child(2)\")[0].text.split()\n",
    "    \n",
    "    info = {\"stock\":stock,\"status\":status[0],\"delta\":status[1]}\n",
    "    return info\n",
    "\n",
    "def getStockData(data):\n",
    "    info = getStock(data[\"code\"])\n",
    "    \n",
    "    result = data\n",
    "    result[\"info\"] = info\n",
    "    return result\n",
    "datas=[ {'name':\"LG화학\",'code':\"051910\"},\n",
    "      {'name':\"삼성전자\",'code':\"005930\"},\n",
    "      {'name':\"LG전자\",'code':'066570'}]\n",
    "result = [getStockData(data) for data in datas ]\n",
    "    \n",
    "with open(\"templates/stock.html\", encoding='utf-8') as f: lines = f.read()\n",
    "template = Template(lines)\n",
    "html = template.render(datas = result)\n",
    "HTML(html)"
   ]
  },
  {
   "cell_type": "code",
   "execution_count": 28,
   "id": "d6809971",
   "metadata": {},
   "outputs": [
    {
     "data": {
      "text/html": [
       "<h1>hello </h1>"
      ],
      "text/plain": [
       "<IPython.core.display.HTML object>"
      ]
     },
     "execution_count": 28,
     "metadata": {},
     "output_type": "execute_result"
    }
   ],
   "source": [
    "HTML('<h1>hello </h1>')"
   ]
  },
  {
   "cell_type": "code",
   "execution_count": 29,
   "id": "68bcc75f",
   "metadata": {},
   "outputs": [
    {
     "data": {
      "text/html": [
       "\n",
       "\n",
       "관심종목 목록<br/>\n",
       "\n",
       "\n",
       "    <a href = \"https://finance.naver.com/item/main.naver?code=051910\"> LG화학</a> / 051910 / 642,000 // 상승 \n",
       "    \n",
       "    \n",
       "        <font color = red>\n",
       "    \n",
       "\n",
       "    / 33,000 </font> <br/>\n",
       "\n",
       "\n",
       "    <a href = \"https://finance.naver.com/item/main.naver?code=005930\"> 삼성전자</a> / 005930 / 61,500 // 보합 \n",
       "    \n",
       "    \n",
       "        <font color = black>\n",
       "    \n",
       "\n",
       "    / 0 </font> <br/>\n",
       "\n",
       "\n",
       "    <a href = \"https://finance.naver.com/item/main.naver?code=066570\"> LG전자</a> / 066570 / 95,900 // 하락 \n",
       "    \n",
       "    \n",
       "        <font color = blue>\n",
       "    \n",
       "\n",
       "    / 100 </font> <br/>\n",
       "\n"
      ],
      "text/plain": [
       "<IPython.core.display.HTML object>"
      ]
     },
     "execution_count": 29,
     "metadata": {},
     "output_type": "execute_result"
    }
   ],
   "source": [
    "HTML(Template(lines).render(datas =result))"
   ]
  },
  {
   "cell_type": "markdown",
   "id": "ecd23dc2",
   "metadata": {},
   "source": [
    "# 주가예측"
   ]
  },
  {
   "cell_type": "code",
   "execution_count": 31,
   "id": "7abd57ab",
   "metadata": {},
   "outputs": [
    {
     "name": "stdout",
     "output_type": "stream",
     "text": [
      "Requirement already satisfied: finance-datareader in c:\\users\\syseong\\anaconda3\\lib\\site-packages (0.9.34)\n",
      "Requirement already satisfied: lxml in c:\\users\\syseong\\anaconda3\\lib\\site-packages (from finance-datareader) (4.8.0)\n",
      "Requirement already satisfied: pandas>=0.19.2 in c:\\users\\syseong\\anaconda3\\lib\\site-packages (from finance-datareader) (1.4.1)\n",
      "Requirement already satisfied: requests-file in c:\\users\\syseong\\anaconda3\\lib\\site-packages (from finance-datareader) (1.5.1)\n",
      "Requirement already satisfied: tqdm in c:\\users\\syseong\\anaconda3\\lib\\site-packages (from finance-datareader) (4.63.0)\n",
      "Requirement already satisfied: requests>=2.3.0 in c:\\users\\syseong\\anaconda3\\lib\\site-packages (from finance-datareader) (2.27.1)\n",
      "Requirement already satisfied: pytz>=2020.1 in c:\\users\\syseong\\anaconda3\\lib\\site-packages (from pandas>=0.19.2->finance-datareader) (2021.3)\n",
      "Requirement already satisfied: numpy>=1.18.5 in c:\\users\\syseong\\anaconda3\\lib\\site-packages (from pandas>=0.19.2->finance-datareader) (1.20.3)\n",
      "Requirement already satisfied: python-dateutil>=2.8.1 in c:\\users\\syseong\\anaconda3\\lib\\site-packages (from pandas>=0.19.2->finance-datareader) (2.8.2)\n",
      "Requirement already satisfied: idna<4,>=2.5 in c:\\users\\syseong\\anaconda3\\lib\\site-packages (from requests>=2.3.0->finance-datareader) (3.3)\n",
      "Requirement already satisfied: urllib3<1.27,>=1.21.1 in c:\\users\\syseong\\anaconda3\\lib\\site-packages (from requests>=2.3.0->finance-datareader) (1.26.8)\n",
      "Requirement already satisfied: charset-normalizer~=2.0.0 in c:\\users\\syseong\\anaconda3\\lib\\site-packages (from requests>=2.3.0->finance-datareader) (2.0.4)\n",
      "Requirement already satisfied: certifi>=2017.4.17 in c:\\users\\syseong\\anaconda3\\lib\\site-packages (from requests>=2.3.0->finance-datareader) (2021.10.8)\n",
      "Requirement already satisfied: six in c:\\users\\syseong\\anaconda3\\lib\\site-packages (from requests-file->finance-datareader) (1.16.0)\n",
      "Requirement already satisfied: colorama in c:\\users\\syseong\\anaconda3\\lib\\site-packages (from tqdm->finance-datareader) (0.4.4)\n"
     ]
    }
   ],
   "source": [
    "!pip install finance-datareader"
   ]
  },
  {
   "cell_type": "code",
   "execution_count": 33,
   "id": "1609f914",
   "metadata": {},
   "outputs": [
    {
     "data": {
      "text/html": [
       "<div>\n",
       "<style scoped>\n",
       "    .dataframe tbody tr th:only-of-type {\n",
       "        vertical-align: middle;\n",
       "    }\n",
       "\n",
       "    .dataframe tbody tr th {\n",
       "        vertical-align: top;\n",
       "    }\n",
       "\n",
       "    .dataframe thead th {\n",
       "        text-align: right;\n",
       "    }\n",
       "</style>\n",
       "<table border=\"1\" class=\"dataframe\">\n",
       "  <thead>\n",
       "    <tr style=\"text-align: right;\">\n",
       "      <th></th>\n",
       "      <th>Open</th>\n",
       "      <th>High</th>\n",
       "      <th>Low</th>\n",
       "      <th>Close</th>\n",
       "      <th>Volume</th>\n",
       "      <th>Change</th>\n",
       "    </tr>\n",
       "    <tr>\n",
       "      <th>Date</th>\n",
       "      <th></th>\n",
       "      <th></th>\n",
       "      <th></th>\n",
       "      <th></th>\n",
       "      <th></th>\n",
       "      <th></th>\n",
       "    </tr>\n",
       "  </thead>\n",
       "  <tbody>\n",
       "    <tr>\n",
       "      <th>1998-05-29</th>\n",
       "      <td>977</td>\n",
       "      <td>1007</td>\n",
       "      <td>969</td>\n",
       "      <td>996</td>\n",
       "      <td>717510</td>\n",
       "      <td>NaN</td>\n",
       "    </tr>\n",
       "    <tr>\n",
       "      <th>1998-05-30</th>\n",
       "      <td>986</td>\n",
       "      <td>986</td>\n",
       "      <td>934</td>\n",
       "      <td>936</td>\n",
       "      <td>336920</td>\n",
       "      <td>-0.060241</td>\n",
       "    </tr>\n",
       "    <tr>\n",
       "      <th>1998-06-01</th>\n",
       "      <td>930</td>\n",
       "      <td>943</td>\n",
       "      <td>889</td>\n",
       "      <td>910</td>\n",
       "      <td>592491</td>\n",
       "      <td>-0.027778</td>\n",
       "    </tr>\n",
       "    <tr>\n",
       "      <th>1998-06-02</th>\n",
       "      <td>889</td>\n",
       "      <td>889</td>\n",
       "      <td>837</td>\n",
       "      <td>838</td>\n",
       "      <td>415922</td>\n",
       "      <td>-0.079121</td>\n",
       "    </tr>\n",
       "    <tr>\n",
       "      <th>1998-06-03</th>\n",
       "      <td>856</td>\n",
       "      <td>895</td>\n",
       "      <td>847</td>\n",
       "      <td>884</td>\n",
       "      <td>295514</td>\n",
       "      <td>0.054893</td>\n",
       "    </tr>\n",
       "    <tr>\n",
       "      <th>...</th>\n",
       "      <td>...</td>\n",
       "      <td>...</td>\n",
       "      <td>...</td>\n",
       "      <td>...</td>\n",
       "      <td>...</td>\n",
       "      <td>...</td>\n",
       "    </tr>\n",
       "    <tr>\n",
       "      <th>2022-08-01</th>\n",
       "      <td>61000</td>\n",
       "      <td>61700</td>\n",
       "      <td>60300</td>\n",
       "      <td>61300</td>\n",
       "      <td>13154816</td>\n",
       "      <td>-0.001629</td>\n",
       "    </tr>\n",
       "    <tr>\n",
       "      <th>2022-08-02</th>\n",
       "      <td>61200</td>\n",
       "      <td>61900</td>\n",
       "      <td>61000</td>\n",
       "      <td>61700</td>\n",
       "      <td>13614895</td>\n",
       "      <td>0.006525</td>\n",
       "    </tr>\n",
       "    <tr>\n",
       "      <th>2022-08-03</th>\n",
       "      <td>61600</td>\n",
       "      <td>61600</td>\n",
       "      <td>61000</td>\n",
       "      <td>61300</td>\n",
       "      <td>10053861</td>\n",
       "      <td>-0.006483</td>\n",
       "    </tr>\n",
       "    <tr>\n",
       "      <th>2022-08-04</th>\n",
       "      <td>61700</td>\n",
       "      <td>61800</td>\n",
       "      <td>61200</td>\n",
       "      <td>61500</td>\n",
       "      <td>9125439</td>\n",
       "      <td>0.003263</td>\n",
       "    </tr>\n",
       "    <tr>\n",
       "      <th>2022-08-05</th>\n",
       "      <td>61700</td>\n",
       "      <td>61900</td>\n",
       "      <td>61200</td>\n",
       "      <td>61500</td>\n",
       "      <td>9489146</td>\n",
       "      <td>0.000000</td>\n",
       "    </tr>\n",
       "  </tbody>\n",
       "</table>\n",
       "<p>6000 rows × 6 columns</p>\n",
       "</div>"
      ],
      "text/plain": [
       "             Open   High    Low  Close    Volume    Change\n",
       "Date                                                      \n",
       "1998-05-29    977   1007    969    996    717510       NaN\n",
       "1998-05-30    986    986    934    936    336920 -0.060241\n",
       "1998-06-01    930    943    889    910    592491 -0.027778\n",
       "1998-06-02    889    889    837    838    415922 -0.079121\n",
       "1998-06-03    856    895    847    884    295514  0.054893\n",
       "...           ...    ...    ...    ...       ...       ...\n",
       "2022-08-01  61000  61700  60300  61300  13154816 -0.001629\n",
       "2022-08-02  61200  61900  61000  61700  13614895  0.006525\n",
       "2022-08-03  61600  61600  61000  61300  10053861 -0.006483\n",
       "2022-08-04  61700  61800  61200  61500   9125439  0.003263\n",
       "2022-08-05  61700  61900  61200  61500   9489146  0.000000\n",
       "\n",
       "[6000 rows x 6 columns]"
      ]
     },
     "execution_count": 33,
     "metadata": {},
     "output_type": "execute_result"
    }
   ],
   "source": [
    "import FinanceDataReader as fdr\n",
    "\n",
    "code= \"005930\"\n",
    "stock = fdr.DataReader(code) #\"1999-01-01\",\"2021-01-01\"\n",
    "stock"
   ]
  },
  {
   "cell_type": "code",
   "execution_count": 34,
   "id": "74e9f87a",
   "metadata": {},
   "outputs": [],
   "source": [
    "import matplotlib.pyplot as plt"
   ]
  },
  {
   "cell_type": "code",
   "execution_count": 35,
   "id": "b6f70526",
   "metadata": {},
   "outputs": [
    {
     "data": {
      "text/plain": [
       "[<matplotlib.lines.Line2D at 0x286faa72580>]"
      ]
     },
     "execution_count": 35,
     "metadata": {},
     "output_type": "execute_result"
    },
    {
     "data": {
      "image/png": "[encoded data removed]",
      "text/plain": [
       "<Figure size 432x288 with 1 Axes>"
      ]
     },
     "metadata": {
      "needs_background": "light"
     },
     "output_type": "display_data"
    }
   ],
   "source": [
    "plt.plot(stock[\"Close\"])"
   ]
  },
  {
   "cell_type": "code",
   "execution_count": 39,
   "id": "0daa9197",
   "metadata": {},
   "outputs": [],
   "source": [
    "from sklearn.preprocessing import MinMaxScaler\n",
    "import numpy as np"
   ]
  },
  {
   "cell_type": "code",
   "execution_count": 41,
   "id": "bed8d728",
   "metadata": {},
   "outputs": [
    {
     "data": {
      "text/plain": [
       "array([[ 30. ,  78.7, 187.3],\n",
       "       [ 17. ,  45.3, 157.2],\n",
       "       [ 70. ,  79. , 170.5]])"
      ]
     },
     "execution_count": 41,
     "metadata": {},
     "output_type": "execute_result"
    }
   ],
   "source": [
    "data = np.array([\n",
    "    [30,78.7,187.3],\n",
    "    [17,45.3,157.2],\n",
    "    [70,79,170.5]\n",
    "])\n",
    "data"
   ]
  },
  {
   "cell_type": "code",
   "execution_count": 45,
   "id": "32cfdf94",
   "metadata": {},
   "outputs": [
    {
     "data": {
      "text/plain": [
       "array([[0.24528302, 0.99109792, 1.        ],\n",
       "       [0.        , 0.        , 0.        ],\n",
       "       [1.        , 1.        , 0.44186047]])"
      ]
     },
     "execution_count": 45,
     "metadata": {},
     "output_type": "execute_result"
    }
   ],
   "source": [
    "scaler = MinMaxScaler().fit(data)\n",
    "scaled = scaler.transform(data)\n",
    "scaled"
   ]
  },
  {
   "cell_type": "code",
   "execution_count": 46,
   "id": "295e3b94",
   "metadata": {},
   "outputs": [
    {
     "data": {
      "text/plain": [
       "array([[ 17.  ,  45.3 , 211.38]])"
      ]
     },
     "execution_count": 46,
     "metadata": {},
     "output_type": "execute_result"
    }
   ],
   "source": [
    "scaler.inverse_transform([[0,0,1.8]])"
   ]
  },
  {
   "cell_type": "code",
   "execution_count": 50,
   "id": "a51bd24b",
   "metadata": {},
   "outputs": [
    {
     "data": {
      "text/html": [
       "<div>\n",
       "<style scoped>\n",
       "    .dataframe tbody tr th:only-of-type {\n",
       "        vertical-align: middle;\n",
       "    }\n",
       "\n",
       "    .dataframe tbody tr th {\n",
       "        vertical-align: top;\n",
       "    }\n",
       "\n",
       "    .dataframe thead th {\n",
       "        text-align: right;\n",
       "    }\n",
       "</style>\n",
       "<table border=\"1\" class=\"dataframe\">\n",
       "  <thead>\n",
       "    <tr style=\"text-align: right;\">\n",
       "      <th></th>\n",
       "      <th>Open</th>\n",
       "      <th>High</th>\n",
       "      <th>Low</th>\n",
       "      <th>Close</th>\n",
       "      <th>Volume</th>\n",
       "      <th>Change</th>\n",
       "    </tr>\n",
       "  </thead>\n",
       "  <tbody>\n",
       "    <tr>\n",
       "      <th>0</th>\n",
       "      <td>0.010819</td>\n",
       "      <td>0.010403</td>\n",
       "      <td>0.010827</td>\n",
       "      <td>0.003962</td>\n",
       "      <td>0.007945</td>\n",
       "      <td>NaN</td>\n",
       "    </tr>\n",
       "    <tr>\n",
       "      <th>1</th>\n",
       "      <td>0.010919</td>\n",
       "      <td>0.010186</td>\n",
       "      <td>0.010436</td>\n",
       "      <td>0.003298</td>\n",
       "      <td>0.003731</td>\n",
       "      <td>0.268895</td>\n",
       "    </tr>\n",
       "    <tr>\n",
       "      <th>2</th>\n",
       "      <td>0.010299</td>\n",
       "      <td>0.009742</td>\n",
       "      <td>0.009933</td>\n",
       "      <td>0.003010</td>\n",
       "      <td>0.006561</td>\n",
       "      <td>0.381785</td>\n",
       "    </tr>\n",
       "    <tr>\n",
       "      <th>3</th>\n",
       "      <td>0.009845</td>\n",
       "      <td>0.009184</td>\n",
       "      <td>0.009352</td>\n",
       "      <td>0.002213</td>\n",
       "      <td>0.004606</td>\n",
       "      <td>0.203241</td>\n",
       "    </tr>\n",
       "    <tr>\n",
       "      <th>4</th>\n",
       "      <td>0.009480</td>\n",
       "      <td>0.009246</td>\n",
       "      <td>0.009464</td>\n",
       "      <td>0.002722</td>\n",
       "      <td>0.003272</td>\n",
       "      <td>0.669268</td>\n",
       "    </tr>\n",
       "    <tr>\n",
       "      <th>...</th>\n",
       "      <td>...</td>\n",
       "      <td>...</td>\n",
       "      <td>...</td>\n",
       "      <td>...</td>\n",
       "      <td>...</td>\n",
       "      <td>...</td>\n",
       "    </tr>\n",
       "    <tr>\n",
       "      <th>5995</th>\n",
       "      <td>0.675526</td>\n",
       "      <td>0.637397</td>\n",
       "      <td>0.673743</td>\n",
       "      <td>0.671322</td>\n",
       "      <td>0.145669</td>\n",
       "      <td>0.472717</td>\n",
       "    </tr>\n",
       "    <tr>\n",
       "      <th>5996</th>\n",
       "      <td>0.677741</td>\n",
       "      <td>0.639463</td>\n",
       "      <td>0.681564</td>\n",
       "      <td>0.675749</td>\n",
       "      <td>0.150764</td>\n",
       "      <td>0.501072</td>\n",
       "    </tr>\n",
       "    <tr>\n",
       "      <th>5997</th>\n",
       "      <td>0.682171</td>\n",
       "      <td>0.636364</td>\n",
       "      <td>0.681564</td>\n",
       "      <td>0.671322</td>\n",
       "      <td>0.111331</td>\n",
       "      <td>0.455837</td>\n",
       "    </tr>\n",
       "    <tr>\n",
       "      <th>5998</th>\n",
       "      <td>0.683278</td>\n",
       "      <td>0.638430</td>\n",
       "      <td>0.683799</td>\n",
       "      <td>0.673535</td>\n",
       "      <td>0.101050</td>\n",
       "      <td>0.489727</td>\n",
       "    </tr>\n",
       "    <tr>\n",
       "      <th>5999</th>\n",
       "      <td>0.683278</td>\n",
       "      <td>0.639463</td>\n",
       "      <td>0.683799</td>\n",
       "      <td>0.673535</td>\n",
       "      <td>0.105077</td>\n",
       "      <td>0.478381</td>\n",
       "    </tr>\n",
       "  </tbody>\n",
       "</table>\n",
       "<p>6000 rows × 6 columns</p>\n",
       "</div>"
      ],
      "text/plain": [
       "          Open      High       Low     Close    Volume    Change\n",
       "0     0.010819  0.010403  0.010827  0.003962  0.007945       NaN\n",
       "1     0.010919  0.010186  0.010436  0.003298  0.003731  0.268895\n",
       "2     0.010299  0.009742  0.009933  0.003010  0.006561  0.381785\n",
       "3     0.009845  0.009184  0.009352  0.002213  0.004606  0.203241\n",
       "4     0.009480  0.009246  0.009464  0.002722  0.003272  0.669268\n",
       "...        ...       ...       ...       ...       ...       ...\n",
       "5995  0.675526  0.637397  0.673743  0.671322  0.145669  0.472717\n",
       "5996  0.677741  0.639463  0.681564  0.675749  0.150764  0.501072\n",
       "5997  0.682171  0.636364  0.681564  0.671322  0.111331  0.455837\n",
       "5998  0.683278  0.638430  0.683799  0.673535  0.101050  0.489727\n",
       "5999  0.683278  0.639463  0.683799  0.673535  0.105077  0.478381\n",
       "\n",
       "[6000 rows x 6 columns]"
      ]
     },
     "execution_count": 50,
     "metadata": {},
     "output_type": "execute_result"
    }
   ],
   "source": [
    "import pandas as pd\n",
    "\n",
    "\n",
    "#주가 데이터 정규화\n",
    "scaler = MinMaxScaler().fit(stock)\n",
    "scaled = scaler.transform(stock)\n",
    "\n",
    "scale_cols = [\"Open\",\"High\",\"Low\", \"Close\",\"Volume\",\"Change\"]\n",
    "df = pd.DataFrame(scaled,columns = scale_cols)\n",
    "df"
   ]
  },
  {
   "cell_type": "code",
   "execution_count": 71,
   "id": "f3d1b297",
   "metadata": {},
   "outputs": [],
   "source": [
    "def make_dataset(data, label, window_size=20):\n",
    "    feature_list = []\n",
    "    label_list = []\n",
    "    for i in range(len(data) - window_size):\n",
    "        feature_list.append(np.array(data.iloc[i:i+window_size]))\n",
    "        label_list.append(np.array(label.iloc[i+window_size]))\n",
    "    return np.array(feature_list), np.array(label_list)\n",
    "\n",
    "\n"
   ]
  },
  {
   "cell_type": "code",
   "execution_count": 55,
   "id": "6adf7784",
   "metadata": {},
   "outputs": [],
   "source": [
    "feature_cols = [\"Open\",\"High\",\"Low\", \"Volume\"]\n",
    "label_cols = [\"Close\"]\n"
   ]
  },
  {
   "cell_type": "code",
   "execution_count": 73,
   "id": "723e66c2",
   "metadata": {},
   "outputs": [],
   "source": [
    "#!pip install tensorflow"
   ]
  },
  {
   "cell_type": "code",
   "execution_count": 75,
   "id": "76aa1ada",
   "metadata": {},
   "outputs": [],
   "source": [
    "import tensorflow as tf"
   ]
  },
  {
   "cell_type": "code",
   "execution_count": 76,
   "id": "3f8ae689",
   "metadata": {},
   "outputs": [],
   "source": [
    "from tensorflow.keras.models import Sequential\n",
    "from tensorflow.keras.layers import Dense, LSTM, Conv1D, Lambda\n",
    "from tensorflow.keras.losses import Huber\n",
    "from tensorflow.keras.optimizers import Adam"
   ]
  },
  {
   "cell_type": "code",
   "execution_count": 84,
   "id": "bf15f189",
   "metadata": {},
   "outputs": [
    {
     "name": "stdout",
     "output_type": "stream",
     "text": [
      "(5980, 20, 4)\n",
      "(5980, 1)\n",
      "[[0.01081949 0.01040289 0.01082682 0.0079453 ]\n",
      " [0.01091916 0.01018595 0.01043575 0.00373086]\n",
      " [0.010299   0.00974174 0.00993296 0.00656091]\n",
      " [0.00984496 0.00918388 0.00935196 0.00460569]\n",
      " [0.00947951 0.00924587 0.00946369 0.00327236]\n",
      " [0.00978959 0.00955579 0.0098324  0.0052833 ]\n",
      " [0.01050941 0.01       0.01004469 0.00432944]\n",
      " [0.00988926 0.00922521 0.0093743  0.00430557]\n",
      " [0.00968992 0.00909091 0.00883799 0.01091672]\n",
      " [0.00883721 0.00835744 0.00858101 0.01216044]\n",
      " [0.00834994 0.00797521 0.00821229 0.00725554]\n",
      " [0.00797342 0.00795455 0.00804469 0.00422983]\n",
      " [0.00807309 0.00784091 0.00789944 0.00318248]\n",
      " [0.00782946 0.00766529 0.00758659 0.0053766 ]\n",
      " [0.00820598 0.00820248 0.0081676  0.00972994]\n",
      " [0.0092691  0.00918388 0.0092514  0.01137025]\n",
      " [0.00983389 0.00922521 0.00906145 0.01151271]\n",
      " [0.00951274 0.0090186  0.00915084 0.0031814 ]\n",
      " [0.00968992 0.00903926 0.0092514  0.00467111]\n",
      " [0.00880399 0.00834711 0.00852514 0.00525241]]\n",
      "[0.00143866]\n",
      "Epoch 1/2\n",
      "374/374 [==============================] - 5s 8ms/step - loss: 0.0172 - mse: 0.0172\n",
      "Epoch 2/2\n",
      "374/374 [==============================] - 3s 8ms/step - loss: 1.6341e-04 - mse: 1.6341e-04\n",
      "1/1 [==============================] - 0s 235ms/step\n",
      "61398.808951854706\n"
     ]
    },
    {
     "data": {
      "text/plain": [
       "{'20220806': 61398.808951854706}"
      ]
     },
     "execution_count": 84,
     "metadata": {},
     "output_type": "execute_result"
    }
   ],
   "source": [
    "train_feature = df[feature_cols]  #  N by 4\n",
    "train_label = df[label_cols]      # N by 1\n",
    "\n",
    "\n",
    "train_feature, train_label = make_dataset(train_feature, train_label, 20)\n",
    "\n",
    "print(train_feature.shape)\n",
    "print(train_label.shape)\n",
    "\n",
    "print(train_feature[0, :, :])\n",
    "print(train_label[0])\n",
    "\n",
    "\n",
    "model = Sequential()\n",
    "model.add(LSTM(16, \n",
    "               input_shape=(train_feature.shape[1], train_feature.shape[2]), \n",
    "               activation='relu', \n",
    "               return_sequences=False)\n",
    "          )\n",
    "model.add(Dense(1))\n",
    "model.compile(loss='mean_squared_error', optimizer='adam', metrics=['mse'])\n",
    "\n",
    "history = model.fit(train_feature, train_label,  epochs=2,  batch_size=16)\n",
    "\n",
    "p = model.predict(train_feature[-1,:,:].reshape(1,20,4))\n",
    "p = scaler.inverse_transform([[0,0,0, p[0][0], 0, 0]])[0][3]\n",
    "print(p)\n",
    "\n",
    "import pickle \n",
    "data = {}\n",
    "data[\"20220806\"] = p\n",
    "with open(f'{code}.pkl', 'wb') as f:     pickle.dump(data, f)    \n",
    "data"
   ]
  },
  {
   "cell_type": "code",
   "execution_count": 82,
   "id": "14e44c31",
   "metadata": {},
   "outputs": [
    {
     "name": "stdout",
     "output_type": "stream",
     "text": [
      "1/1 [==============================] - 0s 347ms/step\n",
      "60788.56495642662\n"
     ]
    }
   ],
   "source": [
    "p = model.predict(train_feature[-1,:,:].reshape(1,20,4))\n",
    "p = scaler.inverse_transform([[0,0,0, p[0][0], 0, 0]])[0][3]\n",
    "print(p)"
   ]
  },
  {
   "cell_type": "code",
   "execution_count": 83,
   "id": "bbc84930",
   "metadata": {},
   "outputs": [
    {
     "data": {
      "text/plain": [
       "{'20220805': 606707, '20220806': 606207}"
      ]
     },
     "execution_count": 83,
     "metadata": {},
     "output_type": "execute_result"
    }
   ],
   "source": [
    "#pkl파일 생성\n",
    "\n",
    "import pickle \n",
    "data = {}\n",
    "data[\"20220805\"] = 606707\n",
    "data[\"20220806\"] = 606207\n",
    "with open(f'{code}.pkl', 'wb') as f:     pickle.dump(data, f)    \n",
    "data"
   ]
  },
  {
   "cell_type": "code",
   "execution_count": 86,
   "id": "1ace68d8",
   "metadata": {},
   "outputs": [
    {
     "data": {
      "text/plain": [
       "{'20220806': 61398.808951854706}"
      ]
     },
     "execution_count": 86,
     "metadata": {},
     "output_type": "execute_result"
    }
   ],
   "source": [
    "#예측한 날짜의 파일을 읽어들이기\n",
    "\n",
    "from datetime import datetime\n",
    "data = {}\n",
    "\n",
    "try :   \n",
    "    with open(f'{code}.pkl', 'rb') as f:   data = pickle.load(f)   \n",
    "except :\n",
    "    ;\n",
    "    \n",
    "today = datetime.today().strftime('%Y%m%d')\n",
    "data[today] = p\n",
    "with open(f'{code}.pkl', 'wb') as f:     pickle.dump(data, f)    \n",
    "data"
   ]
  },
  {
   "cell_type": "code",
   "execution_count": 87,
   "id": "0ec11d1e",
   "metadata": {},
   "outputs": [
    {
     "name": "stdout",
     "output_type": "stream",
     "text": [
      "(5980, 20, 4)\n",
      "(5980, 1)\n",
      "[[0.01081949 0.01040289 0.01082682 0.0079453 ]\n",
      " [0.01091916 0.01018595 0.01043575 0.00373086]\n",
      " [0.010299   0.00974174 0.00993296 0.00656091]\n",
      " [0.00984496 0.00918388 0.00935196 0.00460569]\n",
      " [0.00947951 0.00924587 0.00946369 0.00327236]\n",
      " [0.00978959 0.00955579 0.0098324  0.0052833 ]\n",
      " [0.01050941 0.01       0.01004469 0.00432944]\n",
      " [0.00988926 0.00922521 0.0093743  0.00430557]\n",
      " [0.00968992 0.00909091 0.00883799 0.01091672]\n",
      " [0.00883721 0.00835744 0.00858101 0.01216044]\n",
      " [0.00834994 0.00797521 0.00821229 0.00725554]\n",
      " [0.00797342 0.00795455 0.00804469 0.00422983]\n",
      " [0.00807309 0.00784091 0.00789944 0.00318248]\n",
      " [0.00782946 0.00766529 0.00758659 0.0053766 ]\n",
      " [0.00820598 0.00820248 0.0081676  0.00972994]\n",
      " [0.0092691  0.00918388 0.0092514  0.01137025]\n",
      " [0.00983389 0.00922521 0.00906145 0.01151271]\n",
      " [0.00951274 0.0090186  0.00915084 0.0031814 ]\n",
      " [0.00968992 0.00903926 0.0092514  0.00467111]\n",
      " [0.00880399 0.00834711 0.00852514 0.00525241]]\n",
      "[0.00143866]\n",
      "Epoch 1/2\n",
      "374/374 [==============================] - 5s 8ms/step - loss: 5.9537e-04 - mse: 5.9537e-04\n",
      "Epoch 2/2\n",
      "374/374 [==============================] - 3s 8ms/step - loss: 1.2943e-04 - mse: 1.2943e-04\n",
      "1/1 [==============================] - 0s 291ms/step\n",
      "60860.225618720055\n"
     ]
    },
    {
     "data": {
      "text/plain": [
       "{'20220806': 60860.225618720055}"
      ]
     },
     "execution_count": 87,
     "metadata": {},
     "output_type": "execute_result"
    }
   ],
   "source": [
    "def make_dataset(data, label, window_size=20):\n",
    "    feature_list = []\n",
    "    label_list = []\n",
    "    for i in range(len(data) - window_size):\n",
    "        feature_list.append(np.array(data.iloc[i:i+window_size]))\n",
    "        label_list.append(np.array(label.iloc[i+window_size]))\n",
    "    return np.array(feature_list), np.array(label_list)\n",
    "\n",
    "\n",
    "code = '005930'\n",
    "stock = fdr.DataReader(code)\n",
    "\n",
    "scaler = MinMaxScaler().fit(stock)\n",
    "scaled = scaler.transform(stock)\n",
    "scale_cols = ['Open', 'High', 'Low', 'Close', 'Volume', 'Change']\n",
    "df = pd.DataFrame(scaled, columns=scale_cols)\n",
    "\n",
    "feature_cols = ['Open', 'High', 'Low', 'Volume']\n",
    "label_cols = ['Close']\n",
    "\n",
    "train_feature = df[feature_cols]  #  N by 4\n",
    "train_label = df[label_cols]      # N by 1\n",
    "\n",
    "\n",
    "train_feature, train_label = make_dataset(train_feature, train_label, 20)\n",
    "\n",
    "print(train_feature.shape)\n",
    "print(train_label.shape)\n",
    "\n",
    "print(train_feature[0, :, :])\n",
    "print(train_label[0])\n",
    "\n",
    "\n",
    "model = Sequential()\n",
    "model.add(LSTM(16, \n",
    "               input_shape=(train_feature.shape[1], train_feature.shape[2]), \n",
    "               activation='relu', \n",
    "               return_sequences=False)\n",
    "          )\n",
    "model.add(Dense(1))\n",
    "model.compile(loss='mean_squared_error', optimizer='adam', metrics=['mse'])\n",
    "\n",
    "history = model.fit(train_feature, train_label,  epochs=2,  batch_size=16)\n",
    "\n",
    "p = model.predict(train_feature[-1,:,:].reshape(1,20,4))\n",
    "p = scaler.inverse_transform([[0,0,0, p[0][0], 0, 0]])[0][3]\n",
    "print(p)\n",
    "\n",
    "data = {}\n",
    "\n",
    "try :   \n",
    "    with open(f'{code}.pkl', 'rb') as f:   data = pickle.load(f)   \n",
    "except :\n",
    "    ;\n",
    "    \n",
    "today = datetime.today().strftime('%Y%m%d')\n",
    "data[today] = p\n",
    "with open(f'{code}.pkl', 'wb') as f:     pickle.dump(data, f)    \n",
    "data"
   ]
  },
  {
   "cell_type": "code",
   "execution_count": null,
   "id": "09864f05",
   "metadata": {},
   "outputs": [],
   "source": []
  }
 ],
 "metadata": {
  "kernelspec": {
   "display_name": "Python 3 (ipykernel)",
   "language": "python",
   "name": "python3"
  },
  "language_info": {
   "codemirror_mode": {
    "name": "ipython",
    "version": 3
   },
   "file_extension": ".py",
   "mimetype": "text/x-python",
   "name": "python",
   "nbconvert_exporter": "python",
   "pygments_lexer": "ipython3",
   "version": "3.9.11"
  }
 },
 "nbformat": 4,
 "nbformat_minor": 5
}
